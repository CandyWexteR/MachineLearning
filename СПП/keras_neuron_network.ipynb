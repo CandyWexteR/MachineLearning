{
  "nbformat": 4,
  "nbformat_minor": 0,
  "metadata": {
    "colab": {
      "provenance": [],
      "authorship_tag": "ABX9TyPQzQzbte3eR1Rm/uWf2+zf",
      "include_colab_link": true
    },
    "kernelspec": {
      "name": "python3",
      "display_name": "Python 3"
    },
    "language_info": {
      "name": "python"
    }
  },
  "cells": [
    {
      "cell_type": "markdown",
      "metadata": {
        "id": "view-in-github",
        "colab_type": "text"
      },
      "source": [
        "<a href=\"https://colab.research.google.com/github/CandyWexteR/MachineLearning/blob/develop/%D0%A1%D0%9F%D0%9F/keras_neuron_network.ipynb\" target=\"_parent\"><img src=\"https://colab.research.google.com/assets/colab-badge.svg\" alt=\"Open In Colab\"/></a>"
      ]
    },
    {
      "cell_type": "code",
      "execution_count": 1,
      "metadata": {
        "id": "3uz5Qxn3hm9U"
      },
      "outputs": [],
      "source": [
        "import numpy as np\n",
        "from tensorflow import keras\n",
        "from tensorflow.keras import layers"
      ]
    },
    {
      "cell_type": "code",
      "source": [
        "# Model / data parameters\n",
        "num_classes = 10\n",
        "input_shape = (28, 28, 1)\n",
        "\n",
        "# Load the data and split it between train and test sets\n",
        "(x_train, y_train), (x_test, y_test) = keras.datasets.mnist.load_data()\n",
        "\n",
        "# Scale images to the [0, 1] range\n",
        "x_train = x_train.astype(\"float32\") / 255\n",
        "x_test = x_test.astype(\"float32\") / 255\n",
        "# Make sure images have shape (28, 28, 1)\n",
        "x_train = np.expand_dims(x_train, -1)\n",
        "x_test = np.expand_dims(x_test, -1)\n",
        "print(\"x_train shape:\", x_train.shape)\n",
        "print(x_train.shape[0], \"train samples\")\n",
        "print(x_test.shape[0], \"test samples\")\n",
        "\n",
        "\n",
        "# convert class vectors to binary class matrices\n",
        "y_train = keras.utils.to_categorical(y_train, num_classes)\n",
        "y_test = keras.utils.to_categorical(y_test, num_classes)"
      ],
      "metadata": {
        "id": "6hlBEgUNhxL_",
        "colab": {
          "base_uri": "https://localhost:8080/"
        },
        "outputId": "05d7fa55-2bd1-418b-8b06-233bdb149d74"
      },
      "execution_count": 2,
      "outputs": [
        {
          "output_type": "stream",
          "name": "stdout",
          "text": [
            "Downloading data from https://storage.googleapis.com/tensorflow/tf-keras-datasets/mnist.npz\n",
            "11490434/11490434 [==============================] - 0s 0us/step\n",
            "x_train shape: (60000, 28, 28, 1)\n",
            "60000 train samples\n",
            "10000 test samples\n"
          ]
        }
      ]
    },
    {
      "cell_type": "code",
      "source": [
        "model = keras.Sequential(\n",
        "    [\n",
        "        keras.Input(shape=input_shape),\n",
        "        layers.Flatten(),\n",
        "        layers.Dense(50, activation=\"sigmoid\"),\n",
        "        layers.Dense(10, activation=\"sigmoid\"),\n",
        "    ]\n",
        ")\n",
        "\n",
        "model.summary()"
      ],
      "metadata": {
        "colab": {
          "base_uri": "https://localhost:8080/"
        },
        "id": "esyOy8mxrGDV",
        "outputId": "c1b90e38-7758-4872-96cb-3fe1fd08c5f5"
      },
      "execution_count": 3,
      "outputs": [
        {
          "output_type": "stream",
          "name": "stdout",
          "text": [
            "Model: \"sequential\"\n",
            "_________________________________________________________________\n",
            " Layer (type)                Output Shape              Param #   \n",
            "=================================================================\n",
            " flatten (Flatten)           (None, 784)               0         \n",
            "                                                                 \n",
            " dense (Dense)               (None, 50)                39250     \n",
            "                                                                 \n",
            " dense_1 (Dense)             (None, 10)                510       \n",
            "                                                                 \n",
            "=================================================================\n",
            "Total params: 39,760\n",
            "Trainable params: 39,760\n",
            "Non-trainable params: 0\n",
            "_________________________________________________________________\n"
          ]
        }
      ]
    },
    {
      "cell_type": "code",
      "source": [
        "batch_size = 128\n",
        "epochs = 30\n",
        "\n",
        "model.compile(loss=\"mse\", optimizer=keras.optimizers.Adam(), metrics=[\"accuracy\"])\n",
        "\n",
        "model.fit(x_train, y_train, batch_size=batch_size, epochs=epochs, validation_split=0.1)"
      ],
      "metadata": {
        "colab": {
          "base_uri": "https://localhost:8080/"
        },
        "id": "lBht-4HtrKI3",
        "outputId": "a5199867-0dd8-42c0-9f55-f7f8574fe5c2"
      },
      "execution_count": 4,
      "outputs": [
        {
          "output_type": "stream",
          "name": "stdout",
          "text": [
            "Epoch 1/30\n",
            "422/422 [==============================] - 9s 17ms/step - loss: 0.0660 - accuracy: 0.6558 - val_loss: 0.0353 - val_accuracy: 0.8838\n",
            "Epoch 2/30\n",
            "422/422 [==============================] - 3s 7ms/step - loss: 0.0294 - accuracy: 0.8775 - val_loss: 0.0207 - val_accuracy: 0.9175\n",
            "Epoch 3/30\n",
            "422/422 [==============================] - 2s 5ms/step - loss: 0.0206 - accuracy: 0.9014 - val_loss: 0.0157 - val_accuracy: 0.9270\n",
            "Epoch 4/30\n",
            "422/422 [==============================] - 2s 5ms/step - loss: 0.0169 - accuracy: 0.9129 - val_loss: 0.0133 - val_accuracy: 0.9338\n",
            "Epoch 5/30\n",
            "422/422 [==============================] - 2s 4ms/step - loss: 0.0147 - accuracy: 0.9211 - val_loss: 0.0117 - val_accuracy: 0.9403\n",
            "Epoch 6/30\n",
            "422/422 [==============================] - 2s 5ms/step - loss: 0.0132 - accuracy: 0.9276 - val_loss: 0.0107 - val_accuracy: 0.9445\n",
            "Epoch 7/30\n",
            "422/422 [==============================] - 2s 4ms/step - loss: 0.0121 - accuracy: 0.9340 - val_loss: 0.0098 - val_accuracy: 0.9465\n",
            "Epoch 8/30\n",
            "422/422 [==============================] - 2s 4ms/step - loss: 0.0112 - accuracy: 0.9384 - val_loss: 0.0093 - val_accuracy: 0.9525\n",
            "Epoch 9/30\n",
            "422/422 [==============================] - 2s 4ms/step - loss: 0.0105 - accuracy: 0.9422 - val_loss: 0.0087 - val_accuracy: 0.9517\n",
            "Epoch 10/30\n",
            "422/422 [==============================] - 2s 4ms/step - loss: 0.0098 - accuracy: 0.9454 - val_loss: 0.0082 - val_accuracy: 0.9557\n",
            "Epoch 11/30\n",
            "422/422 [==============================] - 2s 5ms/step - loss: 0.0093 - accuracy: 0.9484 - val_loss: 0.0079 - val_accuracy: 0.9552\n",
            "Epoch 12/30\n",
            "422/422 [==============================] - 2s 4ms/step - loss: 0.0088 - accuracy: 0.9512 - val_loss: 0.0075 - val_accuracy: 0.9583\n",
            "Epoch 13/30\n",
            "422/422 [==============================] - 2s 4ms/step - loss: 0.0083 - accuracy: 0.9533 - val_loss: 0.0073 - val_accuracy: 0.9603\n",
            "Epoch 14/30\n",
            "422/422 [==============================] - 2s 4ms/step - loss: 0.0079 - accuracy: 0.9555 - val_loss: 0.0071 - val_accuracy: 0.9627\n",
            "Epoch 15/30\n",
            "422/422 [==============================] - 2s 4ms/step - loss: 0.0076 - accuracy: 0.9581 - val_loss: 0.0069 - val_accuracy: 0.9637\n",
            "Epoch 16/30\n",
            "422/422 [==============================] - 2s 4ms/step - loss: 0.0072 - accuracy: 0.9600 - val_loss: 0.0067 - val_accuracy: 0.9655\n",
            "Epoch 17/30\n",
            "422/422 [==============================] - 2s 4ms/step - loss: 0.0069 - accuracy: 0.9618 - val_loss: 0.0064 - val_accuracy: 0.9672\n",
            "Epoch 18/30\n",
            "422/422 [==============================] - 2s 4ms/step - loss: 0.0067 - accuracy: 0.9633 - val_loss: 0.0063 - val_accuracy: 0.9668\n",
            "Epoch 19/30\n",
            "422/422 [==============================] - 2s 4ms/step - loss: 0.0064 - accuracy: 0.9655 - val_loss: 0.0062 - val_accuracy: 0.9677\n",
            "Epoch 20/30\n",
            "422/422 [==============================] - 2s 4ms/step - loss: 0.0062 - accuracy: 0.9667 - val_loss: 0.0061 - val_accuracy: 0.9675\n",
            "Epoch 21/30\n",
            "422/422 [==============================] - 2s 4ms/step - loss: 0.0060 - accuracy: 0.9680 - val_loss: 0.0060 - val_accuracy: 0.9683\n",
            "Epoch 22/30\n",
            "422/422 [==============================] - 2s 4ms/step - loss: 0.0058 - accuracy: 0.9693 - val_loss: 0.0059 - val_accuracy: 0.9678\n",
            "Epoch 23/30\n",
            "422/422 [==============================] - 2s 4ms/step - loss: 0.0056 - accuracy: 0.9705 - val_loss: 0.0058 - val_accuracy: 0.9678\n",
            "Epoch 24/30\n",
            "422/422 [==============================] - 2s 4ms/step - loss: 0.0054 - accuracy: 0.9713 - val_loss: 0.0057 - val_accuracy: 0.9683\n",
            "Epoch 25/30\n",
            "422/422 [==============================] - 2s 4ms/step - loss: 0.0052 - accuracy: 0.9727 - val_loss: 0.0057 - val_accuracy: 0.9677\n",
            "Epoch 26/30\n",
            "422/422 [==============================] - 2s 4ms/step - loss: 0.0051 - accuracy: 0.9734 - val_loss: 0.0056 - val_accuracy: 0.9687\n",
            "Epoch 27/30\n",
            "422/422 [==============================] - 2s 4ms/step - loss: 0.0050 - accuracy: 0.9744 - val_loss: 0.0055 - val_accuracy: 0.9690\n",
            "Epoch 28/30\n",
            "422/422 [==============================] - 2s 4ms/step - loss: 0.0048 - accuracy: 0.9754 - val_loss: 0.0055 - val_accuracy: 0.9697\n",
            "Epoch 29/30\n",
            "422/422 [==============================] - 2s 4ms/step - loss: 0.0047 - accuracy: 0.9762 - val_loss: 0.0054 - val_accuracy: 0.9712\n",
            "Epoch 30/30\n",
            "422/422 [==============================] - 2s 4ms/step - loss: 0.0046 - accuracy: 0.9767 - val_loss: 0.0054 - val_accuracy: 0.9697\n"
          ]
        },
        {
          "output_type": "execute_result",
          "data": {
            "text/plain": [
              "<keras.callbacks.History at 0x7fe402a6e3a0>"
            ]
          },
          "metadata": {},
          "execution_count": 4
        }
      ]
    },
    {
      "cell_type": "code",
      "source": [
        "score = model.evaluate(x_test, y_test, verbose=0)\n",
        "print(\"Test loss:\", score[0])\n",
        "print(\"Test accuracy:\", score[1])"
      ],
      "metadata": {
        "colab": {
          "base_uri": "https://localhost:8080/"
        },
        "id": "1oiERsy3rKhm",
        "outputId": "7be4b5f6-ce85-4bbb-86c8-2423d4f46a6b"
      },
      "execution_count": null,
      "outputs": [
        {
          "output_type": "stream",
          "name": "stdout",
          "text": [
            "Test loss: 0.012682557106018066\n",
            "Test accuracy: 0.9308000206947327\n"
          ]
        }
      ]
    },
    {
      "cell_type": "markdown",
      "source": [
        "---------------------\n",
        "---------------------\n",
        "# Своя сеть\n",
        "---------------------"
      ],
      "metadata": {
        "id": "ZtelRX6AazGr"
      }
    },
    {
      "cell_type": "code",
      "source": [
        "from tensorflow.python.ops.math_ops import exp\n",
        "def sigmoid(x):\n",
        "  return 1/(1-exp.exp(x))\n",
        "\n",
        "def dSigmoid(x):\n",
        "  sigmoidValue = sigmoid(x)\n",
        "  return sigmoidValue*(1-sigmoidValue)"
      ],
      "metadata": {
        "id": "VzP1Bmm4ayU5"
      },
      "execution_count": null,
      "outputs": []
    },
    {
      "cell_type": "code",
      "source": [],
      "metadata": {
        "id": "oRDsH33kRit5"
      },
      "execution_count": null,
      "outputs": []
    }
  ]
}